{
 "cells": [
  {
   "cell_type": "code",
   "execution_count": 1,
   "metadata": {},
   "outputs": [],
   "source": [
    "import pandas as pd"
   ]
  },
  {
   "cell_type": "code",
   "execution_count": 2,
   "metadata": {},
   "outputs": [],
   "source": [
    "games = pd.read_csv('games.csv')\n",
    "items = pd.read_csv('user_items.csv')\n",
    "reviews = pd.read_csv('user_reviews.csv')"
   ]
  },
  {
   "cell_type": "code",
   "execution_count": 3,
   "metadata": {},
   "outputs": [],
   "source": [
    "# Elegir las columnas pertinentes del DataFrame 'user_items'.\n",
    "items = items[['user_id','item_id','playtime_forever']]\n",
    "\n",
    "# Crear un identificador único en el DataFrame 'user_items'.\n",
    "items['item_id'] = items['item_id'].astype(str)\n",
    "items['id'] = items['user_id'] + items['item_id']\n",
    "\n",
    "# Modificando el tipo de dato de la columna 'item_id' en el DataFrame 'games'.\n",
    "games['item_id'] = games['item_id'].astype(str)\n",
    "\n",
    "# Crear un identificador único en el DataFrame 'user_reviews'.\n",
    "reviews['item_id'] = reviews['item_id'].astype(str)\n",
    "reviews['id'] = reviews['user_id'] + reviews['item_id']\n",
    "\n",
    "# Unir los DataFrames 'reviews' y 'games' por la columna 'item_id' y eliminar las filas que contienen valores nulos.\n",
    "merged_df = reviews.merge(games, on='item_id', how='left')\n",
    "merged_df.dropna(inplace=True)\n",
    "\n",
    "# Crear un DataFrame definitivo fusionando 'items' con 'merge_df' utilizando el identificador único 'id' y nombrando al DataFrame resultante como 'steam'.\n",
    "steam = items.merge(merged_df, on='id')\n",
    "\n",
    "# Renombrar las columnas del DataFrame 'steam'.\n",
    "steam = steam.rename(columns={'user_id_x':'user_id'})\n",
    "steam = steam.rename(columns={'item_id_x':'item_id'})\n",
    "\n",
    "# Eliminar columnas redundantes del DataFrame 'steam'.\n",
    "steam.drop('user_id_y', axis='columns', inplace=True)\n",
    "steam.drop('item_id_y', axis='columns', inplace=True)\n",
    "\n",
    "# Modificar los tipos de datos de algunas columnas en el DataFrame 'steam'.\n",
    "steam['release_date'] = steam['release_date'].astype(str)\n",
    "steam['year_posted'] = steam['year_posted'].astype(str)\n",
    "steam['playtime_forever'] = steam['playtime_forever'].astype(int)\n",
    "\n",
    "# Eligiendo las columnas finales para llevar a cabo el análisis.\n",
    "steam = steam[['id','user_id','item_id','title','genre','developer','release_date','price','recommend','year_posted','sentiment_analysis','playtime_forever']]\n",
    "\n",
    "# Guardando el archivo con el nombre 'data_steam' y utilizando comas como separadores.\n",
    "steam.to_csv('data_steam.csv', index=False)"
   ]
  }
 ],
 "metadata": {
  "kernelspec": {
   "display_name": "Python 3",
   "language": "python",
   "name": "python3"
  },
  "language_info": {
   "codemirror_mode": {
    "name": "ipython",
    "version": 3
   },
   "file_extension": ".py",
   "mimetype": "text/x-python",
   "name": "python",
   "nbconvert_exporter": "python",
   "pygments_lexer": "ipython3",
   "version": "3.11.2"
  }
 },
 "nbformat": 4,
 "nbformat_minor": 2
}
