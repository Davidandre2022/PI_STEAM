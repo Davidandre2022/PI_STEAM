{
 "cells": [
  {
   "cell_type": "code",
   "execution_count": 1,
   "metadata": {},
   "outputs": [],
   "source": [
    "import pandas as pd\n",
    "import json"
   ]
  },
  {
   "cell_type": "code",
   "execution_count": 2,
   "metadata": {},
   "outputs": [],
   "source": [
    "with open('output_steam_games.json', 'r', encoding='utf-8') as archivo:\n",
    "    data = [json.loads(line) for line in archivo]\n",
    "\n",
    "data_games = pd.DataFrame(data)\n",
    "data_games.drop(data_games.index[0:88310], inplace=True)"
   ]
  },
  {
   "cell_type": "code",
   "execution_count": 3,
   "metadata": {},
   "outputs": [],
   "source": [
    "# Eliminar aquellas columnas que no serán relevantes para el análisis futuro.\n",
    "data_games.drop(['app_name','early_access','url','reviews_url','tags','publisher','specs'], axis=1, inplace = True)\n",
    "data_games.reindex()\n",
    "\n",
    "# Extraer únicamente el año de la columna 'release_date'.\n",
    "data_games['release_date'] = pd.to_datetime(data_games['release_date'], errors='coerce').dt.year\n",
    "\n",
    "# Eliminar los valores nulos en cada columna.\n",
    "data_games = data_games.dropna(subset=['genres'])\n",
    "data_games = data_games.dropna(subset=['title'])\n",
    "data_games = data_games.dropna(subset=['release_date'])\n",
    "data_games = data_games.dropna(subset=['price'])\n",
    "data_games = data_games.dropna(subset=['id'])\n",
    "data_games = data_games.dropna(subset=['developer'])\n",
    "\n",
    "# Modificar el tipo de dato de la columna 'release_date'.\n",
    "data_games['release_date'] = data_games['release_date'].astype(int)\n",
    "data_games['release_date'] = data_games['release_date'].astype(str)\n",
    "\n",
    "#  Modificar los valores de la columna 'price' para asignar el número '0' a aquellos casos donde se indique que el producto es gratuito.\n",
    "data_games['price'] = data_games['price'].replace({'Free To Play': 0})\n",
    "data_games['price'] = data_games['price'].replace({'Free to Play': 0})\n",
    "data_games['price'] = data_games['price'].replace({'Play for Free!': 0})\n",
    "\n",
    "# Convertir todos los valores a numéricos y eliminar aquellos que contengan texto\n",
    "data_games = data_games[pd.to_numeric(data_games['price'], errors='coerce').notnull()]\n",
    "\n",
    "# Renombrar la columna 'id' como 'item_id'.\n",
    "data_games = data_games.rename(columns={'id':'item_id'})\n",
    "\n",
    "# Separar la columna 'genres' en varias columnas en un nuevo DataFrame y luego concatenarlo con el DataFrame origina\n",
    "data_games1 = data_games['genres'].apply(pd.Series)\n",
    "data_games2 = pd.concat([data_games, data_games1], axis=1)\n",
    "\n",
    "# Eliminar la columna 'genres' junto con las columnas generadas al separarla en varias columnas, conservando solo la primera columna ['0'] como el único género del juego.\n",
    "data_games2.drop(['genres'], axis=1, inplace = True)\n",
    "data_games2.drop([1,2,3,4,5,6,7,8,9], axis=1, inplace = True)\n",
    "\n",
    "# Seleccionar las variables con las características más importantes según criterio establecido.\n",
    "data_games2 = data_games2[['item_id','title',0,'developer','release_date','price']]\n",
    "data_games2 = data_games2.rename(columns={0: 'genre'})  \n",
    "\n",
    "# Eliminar duplicados en caso de que existan.\n",
    "data_games2 = data_games2.drop_duplicates()\n",
    "\n",
    "# Exportar la tabla como un archivo separado por comas con el nombre 'games'.\n",
    "data_games2.to_csv('games.csv', index=False)"
   ]
  }
 ],
 "metadata": {
  "kernelspec": {
   "display_name": "Python 3",
   "language": "python",
   "name": "python3"
  },
  "language_info": {
   "codemirror_mode": {
    "name": "ipython",
    "version": 3
   },
   "file_extension": ".py",
   "mimetype": "text/x-python",
   "name": "python",
   "nbconvert_exporter": "python",
   "pygments_lexer": "ipython3",
   "version": "3.11.2"
  }
 },
 "nbformat": 4,
 "nbformat_minor": 2
}
