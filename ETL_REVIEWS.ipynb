{
 "cells": [
  {
   "cell_type": "code",
   "execution_count": 1,
   "metadata": {},
   "outputs": [],
   "source": [
    "import pandas as pd\n",
    "import ast\n",
    "from textblob import TextBlob"
   ]
  },
  {
   "cell_type": "code",
   "execution_count": 2,
   "metadata": {},
   "outputs": [],
   "source": [
    "# Lista para almacenar los diccionarios JSON de cada línea\n",
    "data_list = []\n",
    "\n",
    "# Ruta del archivo JSON\n",
    "file_path = 'australian_user_reviews.json'\n",
    "\n",
    "# Abrir el archivo y procesar cada línea\n",
    "with open(file_path, 'r', encoding='utf-8') as file:\n",
    "    for line in file:\n",
    "        try:\n",
    "            # Usar ast.literal_eval para convertir la línea en un diccionario\n",
    "            json_data = ast.literal_eval(line)\n",
    "            data_list.append(json_data)\n",
    "        except ValueError as e:\n",
    "            print(f\"Error en la línea: {line}\")\n",
    "            continue\n",
    "\n",
    "# Crear un DataFrame a partir de la lista de diccionarios\n",
    "data_re = pd.DataFrame(data_list)"
   ]
  },
  {
   "cell_type": "code",
   "execution_count": 3,
   "metadata": {},
   "outputs": [],
   "source": [
    "# Los datos de la columna ['reviews'] se desenredan o separan para su análisis individual\n",
    "data_re1 = data_re.explode(['reviews'])\n",
    "data_re2 = data_re1['reviews'].apply(pd.Series)\n",
    "data_re3 = pd.concat([data_re1, data_re2], axis=1)\n",
    "\n",
    "# Se genera una nueva columna que contiene los años extraídos de los valores presentes en la columna 'posted'.\n",
    "data_re3['year_posted'] = data_re3['posted'].str.extract('(\\d{4})')\n",
    "\n",
    "# Se procede a eliminar aquellas columnas que tienen poca relevancia para el análisis futuro, con el objetivo de simplificar \n",
    "# y focalizar la información en las variables más significativas.\n",
    "data_re3.drop(['reviews','user_url','last_edited','funny','helpful','posted'], axis=1, inplace = True)\n",
    "\n",
    "# Se eliminan valores nulos por columnas\n",
    "data_re3 = data_re3.dropna(subset=['year_posted'])\n",
    "data_re3 = data_re3.dropna(subset=['item_id'])\n",
    "data_re3 = data_re3.dropna(subset=['review'])\n",
    "data_re3 = data_re3.dropna(subset=['recommend'])\n",
    "\n",
    "# Seleccion de columnas relevantes para el analisis\n",
    "data_re3 = data_re3[['user_id','item_id','review','recommend','year_posted',0]]\n",
    "\n",
    "# Reemplazar valores booleanos de T/F por 1/0 y cambiar el tipo de dato a 'int'\n",
    "data_re3['recommend'] = data_re3['recommend'].replace({'False': 0, 'True': 1}).astype(int)\n",
    "\n",
    "# Borrar la ultima columna [0]\n",
    "del data_re3[data_re3.columns[-1]]\n",
    "\n",
    "# Funcion que analisa el sentimiento con la libreria TextBlob\n",
    "def get_sentiment(text):\n",
    "    blob = TextBlob(text)\n",
    "    sentiment = blob.sentiment.polarity\n",
    "    if sentiment < -0.1:\n",
    "        return 0\n",
    "    elif sentiment > 0.1:\n",
    "        return 2\n",
    "    else:\n",
    "        return 1\n",
    "\n",
    "# Crea nueva columna 'sentiment_analysis'aplicando la funcion anterior sobre la columna 'review'\n",
    "data_re3['sentiment_analysis'] = data_re3['review'].apply(get_sentiment)\n",
    "\n",
    "# Eliminar la columna 'review'\n",
    "data_re3.drop(['review'], axis=1, inplace = True)\n",
    "\n",
    "# Se eliminan los duplicados y valores nulos en caso de haber\n",
    "data_re3 = data_re3.drop_duplicates()\n",
    "data_re3 = data_re3.dropna()\n",
    "\n",
    "# Se exporta la tabla como archivo separa por comas de nombre 'user_reviews'\n",
    "data_re3.to_csv('user_reviews.csv', index=False)"
   ]
  }
 ],
 "metadata": {
  "kernelspec": {
   "display_name": "Python 3",
   "language": "python",
   "name": "python3"
  },
  "language_info": {
   "codemirror_mode": {
    "name": "ipython",
    "version": 3
   },
   "file_extension": ".py",
   "mimetype": "text/x-python",
   "name": "python",
   "nbconvert_exporter": "python",
   "pygments_lexer": "ipython3",
   "version": "3.11.2"
  }
 },
 "nbformat": 4,
 "nbformat_minor": 2
}
